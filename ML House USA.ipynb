{
 "cells": [
  {
   "cell_type": "code",
   "execution_count": 1,
   "metadata": {},
   "outputs": [],
   "source": [
    "import pandas as pd\n",
    "import numpy as np\n",
    "import matplotlib.pyplot as plt\n",
    "import seaborn as sns\n",
    "\n",
    "%matplotlib inline"
   ]
  },
  {
   "cell_type": "code",
   "execution_count": 2,
   "metadata": {},
   "outputs": [
    {
     "data": {
      "text/html": [
       "<div>\n",
       "<style scoped>\n",
       "    .dataframe tbody tr th:only-of-type {\n",
       "        vertical-align: middle;\n",
       "    }\n",
       "\n",
       "    .dataframe tbody tr th {\n",
       "        vertical-align: top;\n",
       "    }\n",
       "\n",
       "    .dataframe thead th {\n",
       "        text-align: right;\n",
       "    }\n",
       "</style>\n",
       "<table border=\"1\" class=\"dataframe\">\n",
       "  <thead>\n",
       "    <tr style=\"text-align: right;\">\n",
       "      <th></th>\n",
       "      <th>id</th>\n",
       "      <th>date</th>\n",
       "      <th>price</th>\n",
       "      <th>bedrooms</th>\n",
       "      <th>bathrooms</th>\n",
       "      <th>sqft_living</th>\n",
       "      <th>sqft_lot</th>\n",
       "      <th>floors</th>\n",
       "      <th>waterfront</th>\n",
       "      <th>view</th>\n",
       "      <th>...</th>\n",
       "      <th>grade</th>\n",
       "      <th>sqft_above</th>\n",
       "      <th>sqft_basement</th>\n",
       "      <th>yr_built</th>\n",
       "      <th>yr_renovated</th>\n",
       "      <th>zipcode</th>\n",
       "      <th>lat</th>\n",
       "      <th>long</th>\n",
       "      <th>sqft_living15</th>\n",
       "      <th>sqft_lot15</th>\n",
       "    </tr>\n",
       "  </thead>\n",
       "  <tbody>\n",
       "    <tr>\n",
       "      <th>0</th>\n",
       "      <td>7129300520</td>\n",
       "      <td>20141013T000000</td>\n",
       "      <td>221900.0</td>\n",
       "      <td>3</td>\n",
       "      <td>1.00</td>\n",
       "      <td>1180</td>\n",
       "      <td>5650</td>\n",
       "      <td>1.0</td>\n",
       "      <td>0</td>\n",
       "      <td>0</td>\n",
       "      <td>...</td>\n",
       "      <td>7</td>\n",
       "      <td>1180</td>\n",
       "      <td>0</td>\n",
       "      <td>1955</td>\n",
       "      <td>0</td>\n",
       "      <td>98178</td>\n",
       "      <td>47.5112</td>\n",
       "      <td>-122.257</td>\n",
       "      <td>1340</td>\n",
       "      <td>5650</td>\n",
       "    </tr>\n",
       "    <tr>\n",
       "      <th>1</th>\n",
       "      <td>6414100192</td>\n",
       "      <td>20141209T000000</td>\n",
       "      <td>538000.0</td>\n",
       "      <td>3</td>\n",
       "      <td>2.25</td>\n",
       "      <td>2570</td>\n",
       "      <td>7242</td>\n",
       "      <td>2.0</td>\n",
       "      <td>0</td>\n",
       "      <td>0</td>\n",
       "      <td>...</td>\n",
       "      <td>7</td>\n",
       "      <td>2170</td>\n",
       "      <td>400</td>\n",
       "      <td>1951</td>\n",
       "      <td>1991</td>\n",
       "      <td>98125</td>\n",
       "      <td>47.7210</td>\n",
       "      <td>-122.319</td>\n",
       "      <td>1690</td>\n",
       "      <td>7639</td>\n",
       "    </tr>\n",
       "    <tr>\n",
       "      <th>2</th>\n",
       "      <td>5631500400</td>\n",
       "      <td>20150225T000000</td>\n",
       "      <td>180000.0</td>\n",
       "      <td>2</td>\n",
       "      <td>1.00</td>\n",
       "      <td>770</td>\n",
       "      <td>10000</td>\n",
       "      <td>1.0</td>\n",
       "      <td>0</td>\n",
       "      <td>0</td>\n",
       "      <td>...</td>\n",
       "      <td>6</td>\n",
       "      <td>770</td>\n",
       "      <td>0</td>\n",
       "      <td>1933</td>\n",
       "      <td>0</td>\n",
       "      <td>98028</td>\n",
       "      <td>47.7379</td>\n",
       "      <td>-122.233</td>\n",
       "      <td>2720</td>\n",
       "      <td>8062</td>\n",
       "    </tr>\n",
       "    <tr>\n",
       "      <th>3</th>\n",
       "      <td>2487200875</td>\n",
       "      <td>20141209T000000</td>\n",
       "      <td>604000.0</td>\n",
       "      <td>4</td>\n",
       "      <td>3.00</td>\n",
       "      <td>1960</td>\n",
       "      <td>5000</td>\n",
       "      <td>1.0</td>\n",
       "      <td>0</td>\n",
       "      <td>0</td>\n",
       "      <td>...</td>\n",
       "      <td>7</td>\n",
       "      <td>1050</td>\n",
       "      <td>910</td>\n",
       "      <td>1965</td>\n",
       "      <td>0</td>\n",
       "      <td>98136</td>\n",
       "      <td>47.5208</td>\n",
       "      <td>-122.393</td>\n",
       "      <td>1360</td>\n",
       "      <td>5000</td>\n",
       "    </tr>\n",
       "    <tr>\n",
       "      <th>4</th>\n",
       "      <td>1954400510</td>\n",
       "      <td>20150218T000000</td>\n",
       "      <td>510000.0</td>\n",
       "      <td>3</td>\n",
       "      <td>2.00</td>\n",
       "      <td>1680</td>\n",
       "      <td>8080</td>\n",
       "      <td>1.0</td>\n",
       "      <td>0</td>\n",
       "      <td>0</td>\n",
       "      <td>...</td>\n",
       "      <td>8</td>\n",
       "      <td>1680</td>\n",
       "      <td>0</td>\n",
       "      <td>1987</td>\n",
       "      <td>0</td>\n",
       "      <td>98074</td>\n",
       "      <td>47.6168</td>\n",
       "      <td>-122.045</td>\n",
       "      <td>1800</td>\n",
       "      <td>7503</td>\n",
       "    </tr>\n",
       "  </tbody>\n",
       "</table>\n",
       "<p>5 rows × 21 columns</p>\n",
       "</div>"
      ],
      "text/plain": [
       "           id             date     price  bedrooms  bathrooms  sqft_living  \\\n",
       "0  7129300520  20141013T000000  221900.0         3       1.00         1180   \n",
       "1  6414100192  20141209T000000  538000.0         3       2.25         2570   \n",
       "2  5631500400  20150225T000000  180000.0         2       1.00          770   \n",
       "3  2487200875  20141209T000000  604000.0         4       3.00         1960   \n",
       "4  1954400510  20150218T000000  510000.0         3       2.00         1680   \n",
       "\n",
       "   sqft_lot  floors  waterfront  view  ...  grade  sqft_above  sqft_basement  \\\n",
       "0      5650     1.0           0     0  ...      7        1180              0   \n",
       "1      7242     2.0           0     0  ...      7        2170            400   \n",
       "2     10000     1.0           0     0  ...      6         770              0   \n",
       "3      5000     1.0           0     0  ...      7        1050            910   \n",
       "4      8080     1.0           0     0  ...      8        1680              0   \n",
       "\n",
       "   yr_built  yr_renovated  zipcode      lat     long  sqft_living15  \\\n",
       "0      1955             0    98178  47.5112 -122.257           1340   \n",
       "1      1951          1991    98125  47.7210 -122.319           1690   \n",
       "2      1933             0    98028  47.7379 -122.233           2720   \n",
       "3      1965             0    98136  47.5208 -122.393           1360   \n",
       "4      1987             0    98074  47.6168 -122.045           1800   \n",
       "\n",
       "   sqft_lot15  \n",
       "0        5650  \n",
       "1        7639  \n",
       "2        8062  \n",
       "3        5000  \n",
       "4        7503  \n",
       "\n",
       "[5 rows x 21 columns]"
      ]
     },
     "execution_count": 2,
     "metadata": {},
     "output_type": "execute_result"
    }
   ],
   "source": [
    "df = pd.read_csv('kc_house_data.csv')\n",
    "df.head()"
   ]
  },
  {
   "cell_type": "code",
   "execution_count": 45,
   "metadata": {},
   "outputs": [
    {
     "name": "stdout",
     "output_type": "stream",
     "text": [
      "<class 'pandas.core.frame.DataFrame'>\n",
      "RangeIndex: 21613 entries, 0 to 21612\n",
      "Data columns (total 21 columns):\n",
      " #   Column         Non-Null Count  Dtype  \n",
      "---  ------         --------------  -----  \n",
      " 0   id             21613 non-null  int64  \n",
      " 1   date           21613 non-null  object \n",
      " 2   price          21613 non-null  float64\n",
      " 3   bedrooms       21613 non-null  int64  \n",
      " 4   bathrooms      21613 non-null  float64\n",
      " 5   sqft_living    21613 non-null  int64  \n",
      " 6   sqft_lot       21613 non-null  int64  \n",
      " 7   floors         21613 non-null  float64\n",
      " 8   waterfront     21613 non-null  int64  \n",
      " 9   view           21613 non-null  int64  \n",
      " 10  condition      21613 non-null  int64  \n",
      " 11  grade          21613 non-null  int64  \n",
      " 12  sqft_above     21613 non-null  int64  \n",
      " 13  sqft_basement  21613 non-null  int64  \n",
      " 14  yr_built       21613 non-null  int64  \n",
      " 15  yr_renovated   21613 non-null  int64  \n",
      " 16  zipcode        21613 non-null  int64  \n",
      " 17  lat            21613 non-null  float64\n",
      " 18  long           21613 non-null  float64\n",
      " 19  sqft_living15  21613 non-null  int64  \n",
      " 20  sqft_lot15     21613 non-null  int64  \n",
      "dtypes: float64(5), int64(15), object(1)\n",
      "memory usage: 3.5+ MB\n"
     ]
    }
   ],
   "source": [
    "df.info()"
   ]
  },
  {
   "cell_type": "code",
   "execution_count": 46,
   "metadata": {},
   "outputs": [
    {
     "data": {
      "text/html": [
       "<div>\n",
       "<style scoped>\n",
       "    .dataframe tbody tr th:only-of-type {\n",
       "        vertical-align: middle;\n",
       "    }\n",
       "\n",
       "    .dataframe tbody tr th {\n",
       "        vertical-align: top;\n",
       "    }\n",
       "\n",
       "    .dataframe thead th {\n",
       "        text-align: right;\n",
       "    }\n",
       "</style>\n",
       "<table border=\"1\" class=\"dataframe\">\n",
       "  <thead>\n",
       "    <tr style=\"text-align: right;\">\n",
       "      <th></th>\n",
       "      <th>Data Features</th>\n",
       "      <th>Data Types</th>\n",
       "      <th>NaN</th>\n",
       "      <th>NaN Percentage</th>\n",
       "      <th>Unique</th>\n",
       "      <th>Unique Sample</th>\n",
       "    </tr>\n",
       "  </thead>\n",
       "  <tbody>\n",
       "    <tr>\n",
       "      <th>0</th>\n",
       "      <td>id</td>\n",
       "      <td>int64</td>\n",
       "      <td>0</td>\n",
       "      <td>0.0</td>\n",
       "      <td>21436</td>\n",
       "      <td>[7129300520, 6414100192, 5631500400, 248720087...</td>\n",
       "    </tr>\n",
       "    <tr>\n",
       "      <th>1</th>\n",
       "      <td>date</td>\n",
       "      <td>object</td>\n",
       "      <td>0</td>\n",
       "      <td>0.0</td>\n",
       "      <td>372</td>\n",
       "      <td>[20141013T000000, 20141209T000000, 20150225T00...</td>\n",
       "    </tr>\n",
       "    <tr>\n",
       "      <th>2</th>\n",
       "      <td>price</td>\n",
       "      <td>float64</td>\n",
       "      <td>0</td>\n",
       "      <td>0.0</td>\n",
       "      <td>4028</td>\n",
       "      <td>[221900.0, 538000.0, 180000.0, 604000.0, 51000...</td>\n",
       "    </tr>\n",
       "    <tr>\n",
       "      <th>3</th>\n",
       "      <td>bedrooms</td>\n",
       "      <td>int64</td>\n",
       "      <td>0</td>\n",
       "      <td>0.0</td>\n",
       "      <td>13</td>\n",
       "      <td>[3, 2, 4, 5, 1, 6, 7, 0, 8, 9, 11, 10, 33]</td>\n",
       "    </tr>\n",
       "    <tr>\n",
       "      <th>4</th>\n",
       "      <td>bathrooms</td>\n",
       "      <td>float64</td>\n",
       "      <td>0</td>\n",
       "      <td>0.0</td>\n",
       "      <td>30</td>\n",
       "      <td>[1.0, 2.25, 3.0, 2.0, 4.5, 1.5, 2.5, 1.75, 2.7...</td>\n",
       "    </tr>\n",
       "    <tr>\n",
       "      <th>5</th>\n",
       "      <td>sqft_living</td>\n",
       "      <td>int64</td>\n",
       "      <td>0</td>\n",
       "      <td>0.0</td>\n",
       "      <td>1038</td>\n",
       "      <td>[1180, 2570, 770, 1960, 1680, 5420, 1715, 1060...</td>\n",
       "    </tr>\n",
       "    <tr>\n",
       "      <th>6</th>\n",
       "      <td>sqft_lot</td>\n",
       "      <td>int64</td>\n",
       "      <td>0</td>\n",
       "      <td>0.0</td>\n",
       "      <td>9782</td>\n",
       "      <td>[5650, 7242, 10000, 5000, 8080, 101930, 6819, ...</td>\n",
       "    </tr>\n",
       "    <tr>\n",
       "      <th>7</th>\n",
       "      <td>floors</td>\n",
       "      <td>float64</td>\n",
       "      <td>0</td>\n",
       "      <td>0.0</td>\n",
       "      <td>6</td>\n",
       "      <td>[1.0, 2.0, 1.5, 3.0, 2.5, 3.5]</td>\n",
       "    </tr>\n",
       "    <tr>\n",
       "      <th>8</th>\n",
       "      <td>waterfront</td>\n",
       "      <td>int64</td>\n",
       "      <td>0</td>\n",
       "      <td>0.0</td>\n",
       "      <td>2</td>\n",
       "      <td>[0, 1]</td>\n",
       "    </tr>\n",
       "    <tr>\n",
       "      <th>9</th>\n",
       "      <td>view</td>\n",
       "      <td>int64</td>\n",
       "      <td>0</td>\n",
       "      <td>0.0</td>\n",
       "      <td>5</td>\n",
       "      <td>[0, 3, 4, 2, 1]</td>\n",
       "    </tr>\n",
       "    <tr>\n",
       "      <th>10</th>\n",
       "      <td>condition</td>\n",
       "      <td>int64</td>\n",
       "      <td>0</td>\n",
       "      <td>0.0</td>\n",
       "      <td>5</td>\n",
       "      <td>[3, 5, 4, 1, 2]</td>\n",
       "    </tr>\n",
       "    <tr>\n",
       "      <th>11</th>\n",
       "      <td>grade</td>\n",
       "      <td>int64</td>\n",
       "      <td>0</td>\n",
       "      <td>0.0</td>\n",
       "      <td>12</td>\n",
       "      <td>[7, 6, 8, 11, 9, 5, 10, 12, 4, 3, 13, 1]</td>\n",
       "    </tr>\n",
       "    <tr>\n",
       "      <th>12</th>\n",
       "      <td>sqft_above</td>\n",
       "      <td>int64</td>\n",
       "      <td>0</td>\n",
       "      <td>0.0</td>\n",
       "      <td>946</td>\n",
       "      <td>[1180, 2170, 770, 1050, 1680, 3890, 1715, 1060...</td>\n",
       "    </tr>\n",
       "    <tr>\n",
       "      <th>13</th>\n",
       "      <td>sqft_basement</td>\n",
       "      <td>int64</td>\n",
       "      <td>0</td>\n",
       "      <td>0.0</td>\n",
       "      <td>306</td>\n",
       "      <td>[0, 400, 910, 1530, 730, 1700, 300, 970, 760, ...</td>\n",
       "    </tr>\n",
       "    <tr>\n",
       "      <th>14</th>\n",
       "      <td>yr_built</td>\n",
       "      <td>int64</td>\n",
       "      <td>0</td>\n",
       "      <td>0.0</td>\n",
       "      <td>116</td>\n",
       "      <td>[1955, 1951, 1933, 1965, 1987, 2001, 1995, 196...</td>\n",
       "    </tr>\n",
       "    <tr>\n",
       "      <th>15</th>\n",
       "      <td>yr_renovated</td>\n",
       "      <td>int64</td>\n",
       "      <td>0</td>\n",
       "      <td>0.0</td>\n",
       "      <td>70</td>\n",
       "      <td>[0, 1991, 2002, 2010, 1999, 1992, 2013, 1994, ...</td>\n",
       "    </tr>\n",
       "    <tr>\n",
       "      <th>16</th>\n",
       "      <td>zipcode</td>\n",
       "      <td>int64</td>\n",
       "      <td>0</td>\n",
       "      <td>0.0</td>\n",
       "      <td>70</td>\n",
       "      <td>[98178, 98125, 98028, 98136, 98074, 98053, 980...</td>\n",
       "    </tr>\n",
       "    <tr>\n",
       "      <th>17</th>\n",
       "      <td>lat</td>\n",
       "      <td>float64</td>\n",
       "      <td>0</td>\n",
       "      <td>0.0</td>\n",
       "      <td>5034</td>\n",
       "      <td>[47.5112, 47.721000000000004, 47.7379, 47.5208...</td>\n",
       "    </tr>\n",
       "    <tr>\n",
       "      <th>18</th>\n",
       "      <td>long</td>\n",
       "      <td>float64</td>\n",
       "      <td>0</td>\n",
       "      <td>0.0</td>\n",
       "      <td>752</td>\n",
       "      <td>[-122.257, -122.319, -122.23299999999999, -122...</td>\n",
       "    </tr>\n",
       "    <tr>\n",
       "      <th>19</th>\n",
       "      <td>sqft_living15</td>\n",
       "      <td>int64</td>\n",
       "      <td>0</td>\n",
       "      <td>0.0</td>\n",
       "      <td>777</td>\n",
       "      <td>[1340, 1690, 2720, 1360, 1800, 4760, 2238, 165...</td>\n",
       "    </tr>\n",
       "    <tr>\n",
       "      <th>20</th>\n",
       "      <td>sqft_lot15</td>\n",
       "      <td>int64</td>\n",
       "      <td>0</td>\n",
       "      <td>0.0</td>\n",
       "      <td>8689</td>\n",
       "      <td>[5650, 7639, 8062, 5000, 7503, 101930, 6819, 9...</td>\n",
       "    </tr>\n",
       "  </tbody>\n",
       "</table>\n",
       "</div>"
      ],
      "text/plain": [
       "    Data Features Data Types  NaN  NaN Percentage  Unique  \\\n",
       "0              id      int64    0             0.0   21436   \n",
       "1            date     object    0             0.0     372   \n",
       "2           price    float64    0             0.0    4028   \n",
       "3        bedrooms      int64    0             0.0      13   \n",
       "4       bathrooms    float64    0             0.0      30   \n",
       "5     sqft_living      int64    0             0.0    1038   \n",
       "6        sqft_lot      int64    0             0.0    9782   \n",
       "7          floors    float64    0             0.0       6   \n",
       "8      waterfront      int64    0             0.0       2   \n",
       "9            view      int64    0             0.0       5   \n",
       "10      condition      int64    0             0.0       5   \n",
       "11          grade      int64    0             0.0      12   \n",
       "12     sqft_above      int64    0             0.0     946   \n",
       "13  sqft_basement      int64    0             0.0     306   \n",
       "14       yr_built      int64    0             0.0     116   \n",
       "15   yr_renovated      int64    0             0.0      70   \n",
       "16        zipcode      int64    0             0.0      70   \n",
       "17            lat    float64    0             0.0    5034   \n",
       "18           long    float64    0             0.0     752   \n",
       "19  sqft_living15      int64    0             0.0     777   \n",
       "20     sqft_lot15      int64    0             0.0    8689   \n",
       "\n",
       "                                        Unique Sample  \n",
       "0   [7129300520, 6414100192, 5631500400, 248720087...  \n",
       "1   [20141013T000000, 20141209T000000, 20150225T00...  \n",
       "2   [221900.0, 538000.0, 180000.0, 604000.0, 51000...  \n",
       "3          [3, 2, 4, 5, 1, 6, 7, 0, 8, 9, 11, 10, 33]  \n",
       "4   [1.0, 2.25, 3.0, 2.0, 4.5, 1.5, 2.5, 1.75, 2.7...  \n",
       "5   [1180, 2570, 770, 1960, 1680, 5420, 1715, 1060...  \n",
       "6   [5650, 7242, 10000, 5000, 8080, 101930, 6819, ...  \n",
       "7                      [1.0, 2.0, 1.5, 3.0, 2.5, 3.5]  \n",
       "8                                              [0, 1]  \n",
       "9                                     [0, 3, 4, 2, 1]  \n",
       "10                                    [3, 5, 4, 1, 2]  \n",
       "11           [7, 6, 8, 11, 9, 5, 10, 12, 4, 3, 13, 1]  \n",
       "12  [1180, 2170, 770, 1050, 1680, 3890, 1715, 1060...  \n",
       "13  [0, 400, 910, 1530, 730, 1700, 300, 970, 760, ...  \n",
       "14  [1955, 1951, 1933, 1965, 1987, 2001, 1995, 196...  \n",
       "15  [0, 1991, 2002, 2010, 1999, 1992, 2013, 1994, ...  \n",
       "16  [98178, 98125, 98028, 98136, 98074, 98053, 980...  \n",
       "17  [47.5112, 47.721000000000004, 47.7379, 47.5208...  \n",
       "18  [-122.257, -122.319, -122.23299999999999, -122...  \n",
       "19  [1340, 1690, 2720, 1360, 1800, 4760, 2238, 165...  \n",
       "20  [5650, 7639, 8062, 5000, 7503, 101930, 6819, 9...  "
      ]
     },
     "execution_count": 46,
     "metadata": {},
     "output_type": "execute_result"
    }
   ],
   "source": [
    "df_desc = []\n",
    "for i in df.columns:\n",
    "    df_desc.append([\n",
    "        i,\n",
    "        df[i].dtypes,\n",
    "        df[i].isna().sum(),\n",
    "        round(((df[i].isna().sum())/ (len(df))*100),2),\n",
    "        df[i].nunique(),\n",
    "        df[i].unique()\n",
    "    ])\n",
    "    \n",
    "df_desc = pd.DataFrame(df_desc, columns = ['Data Features', 'Data Types', 'NaN', 'NaN Percentage', 'Unique', 'Unique Sample'])\n",
    "df_desc"
   ]
  },
  {
   "cell_type": "code",
   "execution_count": 4,
   "metadata": {},
   "outputs": [],
   "source": [
    "df.drop(['id', 'date'],axis=1, inplace=True)"
   ]
  },
  {
   "cell_type": "code",
   "execution_count": 5,
   "metadata": {},
   "outputs": [
    {
     "data": {
      "image/png": "[encoded data removed]",
      "text/plain": [
       "<Figure size 1440x1440 with 19 Axes>"
      ]
     },
     "metadata": {
      "needs_background": "light"
     },
     "output_type": "display_data"
    }
   ],
   "source": [
    "# ploting boxplot for all the columns to see distribution of the data in each columns \n",
    "\n",
    "plt.figure(figsize =(20, 20 ))\n",
    "x = 1 \n",
    "\n",
    "for column in df.columns:\n",
    "    plt.subplot(4,5,x)\n",
    "    sns.boxplot(df[column])\n",
    "    x+=1\n",
    "plt.tight_layout\n",
    "plt.show()"
   ]
  },
  {
   "cell_type": "code",
   "execution_count": 96,
   "metadata": {},
   "outputs": [
    {
     "data": {
      "text/html": [
       "<div>\n",
       "<style scoped>\n",
       "    .dataframe tbody tr th:only-of-type {\n",
       "        vertical-align: middle;\n",
       "    }\n",
       "\n",
       "    .dataframe tbody tr th {\n",
       "        vertical-align: top;\n",
       "    }\n",
       "\n",
       "    .dataframe thead th {\n",
       "        text-align: right;\n",
       "    }\n",
       "</style>\n",
       "<table border=\"1\" class=\"dataframe\">\n",
       "  <thead>\n",
       "    <tr style=\"text-align: right;\">\n",
       "      <th></th>\n",
       "      <th>price</th>\n",
       "      <th>bedrooms</th>\n",
       "      <th>bathrooms</th>\n",
       "      <th>sqft_living</th>\n",
       "      <th>sqft_lot</th>\n",
       "      <th>floors</th>\n",
       "      <th>waterfront</th>\n",
       "      <th>view</th>\n",
       "      <th>condition</th>\n",
       "      <th>grade</th>\n",
       "      <th>sqft_above</th>\n",
       "      <th>sqft_basement</th>\n",
       "      <th>yr_built</th>\n",
       "      <th>yr_renovated</th>\n",
       "      <th>zipcode</th>\n",
       "      <th>lat</th>\n",
       "      <th>long</th>\n",
       "      <th>sqft_living15</th>\n",
       "      <th>sqft_lot15</th>\n",
       "    </tr>\n",
       "  </thead>\n",
       "  <tbody>\n",
       "    <tr>\n",
       "      <th>875</th>\n",
       "      <td>1095000.0</td>\n",
       "      <td>0</td>\n",
       "      <td>0.00</td>\n",
       "      <td>3064</td>\n",
       "      <td>4764</td>\n",
       "      <td>3.5</td>\n",
       "      <td>0</td>\n",
       "      <td>2</td>\n",
       "      <td>3</td>\n",
       "      <td>7</td>\n",
       "      <td>3064</td>\n",
       "      <td>0</td>\n",
       "      <td>1990</td>\n",
       "      <td>0</td>\n",
       "      <td>98102</td>\n",
       "      <td>47.6362</td>\n",
       "      <td>-122.322</td>\n",
       "      <td>2360</td>\n",
       "      <td>4000</td>\n",
       "    </tr>\n",
       "    <tr>\n",
       "      <th>3119</th>\n",
       "      <td>380000.0</td>\n",
       "      <td>0</td>\n",
       "      <td>0.00</td>\n",
       "      <td>1470</td>\n",
       "      <td>979</td>\n",
       "      <td>3.0</td>\n",
       "      <td>0</td>\n",
       "      <td>2</td>\n",
       "      <td>3</td>\n",
       "      <td>8</td>\n",
       "      <td>1470</td>\n",
       "      <td>0</td>\n",
       "      <td>2006</td>\n",
       "      <td>0</td>\n",
       "      <td>98133</td>\n",
       "      <td>47.7145</td>\n",
       "      <td>-122.356</td>\n",
       "      <td>1470</td>\n",
       "      <td>1399</td>\n",
       "    </tr>\n",
       "    <tr>\n",
       "      <th>3467</th>\n",
       "      <td>288000.0</td>\n",
       "      <td>0</td>\n",
       "      <td>1.50</td>\n",
       "      <td>1430</td>\n",
       "      <td>1650</td>\n",
       "      <td>3.0</td>\n",
       "      <td>0</td>\n",
       "      <td>0</td>\n",
       "      <td>3</td>\n",
       "      <td>7</td>\n",
       "      <td>1430</td>\n",
       "      <td>0</td>\n",
       "      <td>1999</td>\n",
       "      <td>0</td>\n",
       "      <td>98125</td>\n",
       "      <td>47.7222</td>\n",
       "      <td>-122.290</td>\n",
       "      <td>1430</td>\n",
       "      <td>1650</td>\n",
       "    </tr>\n",
       "    <tr>\n",
       "      <th>4868</th>\n",
       "      <td>228000.0</td>\n",
       "      <td>0</td>\n",
       "      <td>1.00</td>\n",
       "      <td>390</td>\n",
       "      <td>5900</td>\n",
       "      <td>1.0</td>\n",
       "      <td>0</td>\n",
       "      <td>0</td>\n",
       "      <td>2</td>\n",
       "      <td>4</td>\n",
       "      <td>390</td>\n",
       "      <td>0</td>\n",
       "      <td>1953</td>\n",
       "      <td>0</td>\n",
       "      <td>98118</td>\n",
       "      <td>47.5260</td>\n",
       "      <td>-122.261</td>\n",
       "      <td>2170</td>\n",
       "      <td>6000</td>\n",
       "    </tr>\n",
       "    <tr>\n",
       "      <th>6994</th>\n",
       "      <td>1295650.0</td>\n",
       "      <td>0</td>\n",
       "      <td>0.00</td>\n",
       "      <td>4810</td>\n",
       "      <td>28008</td>\n",
       "      <td>2.0</td>\n",
       "      <td>0</td>\n",
       "      <td>0</td>\n",
       "      <td>3</td>\n",
       "      <td>12</td>\n",
       "      <td>4810</td>\n",
       "      <td>0</td>\n",
       "      <td>1990</td>\n",
       "      <td>0</td>\n",
       "      <td>98053</td>\n",
       "      <td>47.6642</td>\n",
       "      <td>-122.069</td>\n",
       "      <td>4740</td>\n",
       "      <td>35061</td>\n",
       "    </tr>\n",
       "    <tr>\n",
       "      <th>8477</th>\n",
       "      <td>339950.0</td>\n",
       "      <td>0</td>\n",
       "      <td>2.50</td>\n",
       "      <td>2290</td>\n",
       "      <td>8319</td>\n",
       "      <td>2.0</td>\n",
       "      <td>0</td>\n",
       "      <td>0</td>\n",
       "      <td>3</td>\n",
       "      <td>8</td>\n",
       "      <td>2290</td>\n",
       "      <td>0</td>\n",
       "      <td>1985</td>\n",
       "      <td>0</td>\n",
       "      <td>98042</td>\n",
       "      <td>47.3473</td>\n",
       "      <td>-122.151</td>\n",
       "      <td>2500</td>\n",
       "      <td>8751</td>\n",
       "    </tr>\n",
       "    <tr>\n",
       "      <th>8484</th>\n",
       "      <td>240000.0</td>\n",
       "      <td>0</td>\n",
       "      <td>2.50</td>\n",
       "      <td>1810</td>\n",
       "      <td>5669</td>\n",
       "      <td>2.0</td>\n",
       "      <td>0</td>\n",
       "      <td>0</td>\n",
       "      <td>3</td>\n",
       "      <td>7</td>\n",
       "      <td>1810</td>\n",
       "      <td>0</td>\n",
       "      <td>2003</td>\n",
       "      <td>0</td>\n",
       "      <td>98038</td>\n",
       "      <td>47.3493</td>\n",
       "      <td>-122.053</td>\n",
       "      <td>1810</td>\n",
       "      <td>5685</td>\n",
       "    </tr>\n",
       "    <tr>\n",
       "      <th>9773</th>\n",
       "      <td>355000.0</td>\n",
       "      <td>0</td>\n",
       "      <td>0.00</td>\n",
       "      <td>2460</td>\n",
       "      <td>8049</td>\n",
       "      <td>2.0</td>\n",
       "      <td>0</td>\n",
       "      <td>0</td>\n",
       "      <td>3</td>\n",
       "      <td>8</td>\n",
       "      <td>2460</td>\n",
       "      <td>0</td>\n",
       "      <td>1990</td>\n",
       "      <td>0</td>\n",
       "      <td>98031</td>\n",
       "      <td>47.4095</td>\n",
       "      <td>-122.168</td>\n",
       "      <td>2520</td>\n",
       "      <td>8050</td>\n",
       "    </tr>\n",
       "    <tr>\n",
       "      <th>9854</th>\n",
       "      <td>235000.0</td>\n",
       "      <td>0</td>\n",
       "      <td>0.00</td>\n",
       "      <td>1470</td>\n",
       "      <td>4800</td>\n",
       "      <td>2.0</td>\n",
       "      <td>0</td>\n",
       "      <td>0</td>\n",
       "      <td>3</td>\n",
       "      <td>7</td>\n",
       "      <td>1470</td>\n",
       "      <td>0</td>\n",
       "      <td>1996</td>\n",
       "      <td>0</td>\n",
       "      <td>98065</td>\n",
       "      <td>47.5265</td>\n",
       "      <td>-121.828</td>\n",
       "      <td>1060</td>\n",
       "      <td>7200</td>\n",
       "    </tr>\n",
       "    <tr>\n",
       "      <th>12653</th>\n",
       "      <td>320000.0</td>\n",
       "      <td>0</td>\n",
       "      <td>2.50</td>\n",
       "      <td>1490</td>\n",
       "      <td>7111</td>\n",
       "      <td>2.0</td>\n",
       "      <td>0</td>\n",
       "      <td>0</td>\n",
       "      <td>3</td>\n",
       "      <td>7</td>\n",
       "      <td>1490</td>\n",
       "      <td>0</td>\n",
       "      <td>1999</td>\n",
       "      <td>0</td>\n",
       "      <td>98065</td>\n",
       "      <td>47.5261</td>\n",
       "      <td>-121.826</td>\n",
       "      <td>1500</td>\n",
       "      <td>4675</td>\n",
       "    </tr>\n",
       "    <tr>\n",
       "      <th>14423</th>\n",
       "      <td>139950.0</td>\n",
       "      <td>0</td>\n",
       "      <td>0.00</td>\n",
       "      <td>844</td>\n",
       "      <td>4269</td>\n",
       "      <td>1.0</td>\n",
       "      <td>0</td>\n",
       "      <td>0</td>\n",
       "      <td>4</td>\n",
       "      <td>7</td>\n",
       "      <td>844</td>\n",
       "      <td>0</td>\n",
       "      <td>1913</td>\n",
       "      <td>0</td>\n",
       "      <td>98001</td>\n",
       "      <td>47.2781</td>\n",
       "      <td>-122.250</td>\n",
       "      <td>1380</td>\n",
       "      <td>9600</td>\n",
       "    </tr>\n",
       "    <tr>\n",
       "      <th>18379</th>\n",
       "      <td>265000.0</td>\n",
       "      <td>0</td>\n",
       "      <td>0.75</td>\n",
       "      <td>384</td>\n",
       "      <td>213444</td>\n",
       "      <td>1.0</td>\n",
       "      <td>0</td>\n",
       "      <td>0</td>\n",
       "      <td>3</td>\n",
       "      <td>4</td>\n",
       "      <td>384</td>\n",
       "      <td>0</td>\n",
       "      <td>2003</td>\n",
       "      <td>0</td>\n",
       "      <td>98070</td>\n",
       "      <td>47.4177</td>\n",
       "      <td>-122.491</td>\n",
       "      <td>1920</td>\n",
       "      <td>224341</td>\n",
       "    </tr>\n",
       "    <tr>\n",
       "      <th>19452</th>\n",
       "      <td>142000.0</td>\n",
       "      <td>0</td>\n",
       "      <td>0.00</td>\n",
       "      <td>290</td>\n",
       "      <td>20875</td>\n",
       "      <td>1.0</td>\n",
       "      <td>0</td>\n",
       "      <td>0</td>\n",
       "      <td>1</td>\n",
       "      <td>1</td>\n",
       "      <td>290</td>\n",
       "      <td>0</td>\n",
       "      <td>1963</td>\n",
       "      <td>0</td>\n",
       "      <td>98024</td>\n",
       "      <td>47.5308</td>\n",
       "      <td>-121.888</td>\n",
       "      <td>1620</td>\n",
       "      <td>22850</td>\n",
       "    </tr>\n",
       "  </tbody>\n",
       "</table>\n",
       "</div>"
      ],
      "text/plain": [
       "           price  bedrooms  bathrooms  sqft_living  sqft_lot  floors  \\\n",
       "875    1095000.0         0       0.00         3064      4764     3.5   \n",
       "3119    380000.0         0       0.00         1470       979     3.0   \n",
       "3467    288000.0         0       1.50         1430      1650     3.0   \n",
       "4868    228000.0         0       1.00          390      5900     1.0   \n",
       "6994   1295650.0         0       0.00         4810     28008     2.0   \n",
       "8477    339950.0         0       2.50         2290      8319     2.0   \n",
       "8484    240000.0         0       2.50         1810      5669     2.0   \n",
       "9773    355000.0         0       0.00         2460      8049     2.0   \n",
       "9854    235000.0         0       0.00         1470      4800     2.0   \n",
       "12653   320000.0         0       2.50         1490      7111     2.0   \n",
       "14423   139950.0         0       0.00          844      4269     1.0   \n",
       "18379   265000.0         0       0.75          384    213444     1.0   \n",
       "19452   142000.0         0       0.00          290     20875     1.0   \n",
       "\n",
       "       waterfront  view  condition  grade  sqft_above  sqft_basement  \\\n",
       "875             0     2          3      7        3064              0   \n",
       "3119            0     2          3      8        1470              0   \n",
       "3467            0     0          3      7        1430              0   \n",
       "4868            0     0          2      4         390              0   \n",
       "6994            0     0          3     12        4810              0   \n",
       "8477            0     0          3      8        2290              0   \n",
       "8484            0     0          3      7        1810              0   \n",
       "9773            0     0          3      8        2460              0   \n",
       "9854            0     0          3      7        1470              0   \n",
       "12653           0     0          3      7        1490              0   \n",
       "14423           0     0          4      7         844              0   \n",
       "18379           0     0          3      4         384              0   \n",
       "19452           0     0          1      1         290              0   \n",
       "\n",
       "       yr_built  yr_renovated  zipcode      lat     long  sqft_living15  \\\n",
       "875        1990             0    98102  47.6362 -122.322           2360   \n",
       "3119       2006             0    98133  47.7145 -122.356           1470   \n",
       "3467       1999             0    98125  47.7222 -122.290           1430   \n",
       "4868       1953             0    98118  47.5260 -122.261           2170   \n",
       "6994       1990             0    98053  47.6642 -122.069           4740   \n",
       "8477       1985             0    98042  47.3473 -122.151           2500   \n",
       "8484       2003             0    98038  47.3493 -122.053           1810   \n",
       "9773       1990             0    98031  47.4095 -122.168           2520   \n",
       "9854       1996             0    98065  47.5265 -121.828           1060   \n",
       "12653      1999             0    98065  47.5261 -121.826           1500   \n",
       "14423      1913             0    98001  47.2781 -122.250           1380   \n",
       "18379      2003             0    98070  47.4177 -122.491           1920   \n",
       "19452      1963             0    98024  47.5308 -121.888           1620   \n",
       "\n",
       "       sqft_lot15  \n",
       "875          4000  \n",
       "3119         1399  \n",
       "3467         1650  \n",
       "4868         6000  \n",
       "6994        35061  \n",
       "8477         8751  \n",
       "8484         5685  \n",
       "9773         8050  \n",
       "9854         7200  \n",
       "12653        4675  \n",
       "14423        9600  \n",
       "18379      224341  \n",
       "19452       22850  "
      ]
     },
     "execution_count": 96,
     "metadata": {},
     "output_type": "execute_result"
    }
   ],
   "source": [
    "df[df['bedrooms'] < 1]"
   ]
  },
  {
   "cell_type": "code",
   "execution_count": 6,
   "metadata": {},
   "outputs": [],
   "source": [
    "df['bedrooms'] = df['bedrooms'].replace(0, df['bedrooms'].median())\n",
    "df['bathrooms'] = df['bathrooms'].replace(0, df['bathrooms'].median())"
   ]
  },
  {
   "cell_type": "code",
   "execution_count": 9,
   "metadata": {},
   "outputs": [],
   "source": [
    "i = df[((df.bedrooms > 30))].index\n",
    "df.drop(i, inplace=True)"
   ]
  },
  {
   "cell_type": "markdown",
   "metadata": {},
   "source": [
    "## Mencari korelasi "
   ]
  },
  {
   "cell_type": "code",
   "execution_count": 47,
   "metadata": {},
   "outputs": [
    {
     "data": {
      "text/plain": [
       "sqft_living      0.702035\n",
       "grade            0.667434\n",
       "sqft_above       0.605567\n",
       "sqft_living15    0.585379\n",
       "bathrooms        0.525138\n",
       "view             0.397293\n",
       "sqft_basement    0.323816\n",
       "bedrooms         0.308350\n",
       "lat              0.307003\n",
       "waterfront       0.266369\n",
       "floors           0.256794\n",
       "yr_renovated     0.126434\n",
       "sqft_lot         0.089661\n",
       "sqft_lot15       0.082447\n",
       "yr_built         0.054012\n",
       "condition        0.036362\n",
       "long             0.021626\n",
       "id              -0.016762\n",
       "zipcode         -0.053203\n",
       "Name: price, dtype: float64"
      ]
     },
     "execution_count": 47,
     "metadata": {},
     "output_type": "execute_result"
    }
   ],
   "source": [
    "correlation = df.corr()\n",
    "correlation['price'].sort_values(ascending = False)[1:]"
   ]
  },
  {
   "cell_type": "code",
   "execution_count": 7,
   "metadata": {},
   "outputs": [],
   "source": [
    "from sklearn.model_selection import train_test_split"
   ]
  },
  {
   "cell_type": "code",
   "execution_count": 10,
   "metadata": {},
   "outputs": [],
   "source": [
    "X = df.drop(columns='price')\n",
    "y = (df['price'])\n",
    "\n",
    "X_train, X_test, y_train, y_test = train_test_split(X,y, train_size=.8, random_state=69)"
   ]
  },
  {
   "cell_type": "markdown",
   "metadata": {},
   "source": [
    "# Base Model"
   ]
  },
  {
   "cell_type": "markdown",
   "metadata": {},
   "source": [
    "## Linnear Regression"
   ]
  },
  {
   "cell_type": "code",
   "execution_count": 11,
   "metadata": {},
   "outputs": [],
   "source": [
    "from sklearn.linear_model import LinearRegression"
   ]
  },
  {
   "cell_type": "code",
   "execution_count": 12,
   "metadata": {},
   "outputs": [],
   "source": [
    "linreg = LinearRegression()"
   ]
  },
  {
   "cell_type": "code",
   "execution_count": 13,
   "metadata": {},
   "outputs": [
    {
     "data": {
      "text/plain": [
       "LinearRegression()"
      ]
     },
     "execution_count": 13,
     "metadata": {},
     "output_type": "execute_result"
    }
   ],
   "source": [
    "linreg.fit(X_train, y_train)"
   ]
  },
  {
   "cell_type": "code",
   "execution_count": 36,
   "metadata": {},
   "outputs": [],
   "source": [
    "linreg_train = linreg.score(X_train, y_train)"
   ]
  },
  {
   "cell_type": "code",
   "execution_count": 37,
   "metadata": {},
   "outputs": [
    {
     "data": {
      "text/plain": [
       "0.7021075373604584"
      ]
     },
     "execution_count": 37,
     "metadata": {},
     "output_type": "execute_result"
    }
   ],
   "source": [
    "linreg.score(X_test, y_test)"
   ]
  },
  {
   "cell_type": "code",
   "execution_count": 15,
   "metadata": {},
   "outputs": [],
   "source": [
    "y_pred =  linreg.predict(X_test)"
   ]
  },
  {
   "cell_type": "code",
   "execution_count": 16,
   "metadata": {},
   "outputs": [],
   "source": [
    "from sklearn.metrics import r2_score, mean_absolute_error, mean_squared_error"
   ]
  },
  {
   "cell_type": "code",
   "execution_count": 17,
   "metadata": {},
   "outputs": [],
   "source": [
    "r2_linreg = linreg.score(X_test, y_test)\n",
    "MAE_linreg = mean_absolute_error(y_test, y_pred)\n",
    "MSE_linreg = mean_squared_error(y_test, y_pred)\n",
    "RMSE_linreg = np.sqrt(MSE_linreg)"
   ]
  },
  {
   "cell_type": "code",
   "execution_count": 18,
   "metadata": {},
   "outputs": [
    {
     "name": "stdout",
     "output_type": "stream",
     "text": [
      "Hasil Evaluation Matrix LinReg : \n",
      "\n",
      "MAE: 125198.18134824338\n",
      "MSE:38176576676.45185\n",
      "RMSE : 195388.27159390057\n",
      "R2 : 0.7021075373604584\n"
     ]
    }
   ],
   "source": [
    "print('Hasil Evaluation Matrix LinReg : ')\n",
    "print(\"\")\n",
    "print(f'MAE: {MAE_linreg}')\n",
    "print(f'MSE:{MSE_linreg}')\n",
    "print(f\"RMSE : {RMSE_linreg}\")\n",
    "print(f\"R2 : {r2_linreg}\")"
   ]
  },
  {
   "cell_type": "code",
   "execution_count": 19,
   "metadata": {},
   "outputs": [
    {
     "data": {
      "image/png": "[encoded data removed]",
      "text/plain": [
       "<Figure size 1440x720 with 1 Axes>"
      ]
     },
     "metadata": {
      "needs_background": "light"
     },
     "output_type": "display_data"
    }
   ],
   "source": [
    "plt.figure(figsize = (20, 10 ))\n",
    "plt.scatter(y_pred, y_test, color= 'darkgreen', alpha = 0.5)\n",
    "plt.xlabel('Prediction Price')\n",
    "plt.ylabel('Actual Price')\n",
    "plt.title('Linear Regression Scatter plot')\n",
    "\n",
    "plt.show()"
   ]
  },
  {
   "cell_type": "markdown",
   "metadata": {},
   "source": [
    "## XGBoost"
   ]
  },
  {
   "cell_type": "code",
   "execution_count": 20,
   "metadata": {},
   "outputs": [],
   "source": [
    "from xgboost import XGBRegressor"
   ]
  },
  {
   "cell_type": "code",
   "execution_count": 21,
   "metadata": {},
   "outputs": [],
   "source": [
    "base_XGB = XGBRegressor()"
   ]
  },
  {
   "cell_type": "code",
   "execution_count": 22,
   "metadata": {},
   "outputs": [
    {
     "data": {
      "text/plain": [
       "XGBRegressor(base_score=0.5, booster='gbtree', colsample_bylevel=1,\n",
       "             colsample_bynode=1, colsample_bytree=1, gamma=0, gpu_id=-1,\n",
       "             importance_type='gain', interaction_constraints='',\n",
       "             learning_rate=0.300000012, max_delta_step=0, max_depth=6,\n",
       "             min_child_weight=1, missing=nan, monotone_constraints='()',\n",
       "             n_estimators=100, n_jobs=0, num_parallel_tree=1, random_state=0,\n",
       "             reg_alpha=0, reg_lambda=1, scale_pos_weight=1, subsample=1,\n",
       "             tree_method='exact', validate_parameters=1, verbosity=None)"
      ]
     },
     "execution_count": 22,
     "metadata": {},
     "output_type": "execute_result"
    }
   ],
   "source": [
    "base_XGB.fit(X_train, y_train)"
   ]
  },
  {
   "cell_type": "code",
   "execution_count": 23,
   "metadata": {},
   "outputs": [],
   "source": [
    "y_base_XGB = base_XGB.predict(X_test)"
   ]
  },
  {
   "cell_type": "code",
   "execution_count": 39,
   "metadata": {},
   "outputs": [],
   "source": [
    "XGB_train = base_XGB.score(X_train, y_train)"
   ]
  },
  {
   "cell_type": "code",
   "execution_count": 24,
   "metadata": {},
   "outputs": [
    {
     "data": {
      "text/plain": [
       "0.892208604223333"
      ]
     },
     "execution_count": 24,
     "metadata": {},
     "output_type": "execute_result"
    }
   ],
   "source": [
    "base_XGB.score(X_test, y_test)"
   ]
  },
  {
   "cell_type": "code",
   "execution_count": 25,
   "metadata": {},
   "outputs": [],
   "source": [
    "r2_XGB = base_XGB.score(X_test, y_test)\n",
    "MAE_XGB = mean_absolute_error(y_test, y_base_XGB)\n",
    "MSE_XGB = mean_squared_error(y_test, y_base_XGB)\n",
    "RMSE_XGB = np.sqrt(MSE_XGB)"
   ]
  },
  {
   "cell_type": "code",
   "execution_count": 26,
   "metadata": {},
   "outputs": [
    {
     "name": "stdout",
     "output_type": "stream",
     "text": [
      "Hasil Evaluation Matrix XGBoost : \n",
      "\n",
      "MAE: 66085.01626113232\n",
      "MSE:13814067161.911015\n",
      "RMSE : 117533.25981147215\n",
      "R2 : 0.892208604223333\n"
     ]
    }
   ],
   "source": [
    "print('Hasil Evaluation Matrix XGBoost : ')\n",
    "print(\"\")\n",
    "print(f'MAE: {MAE_XGB}')\n",
    "print(f'MSE:{MSE_XGB}')\n",
    "print(f\"RMSE : {RMSE_XGB}\")\n",
    "print(f\"R2 : {r2_XGB}\")"
   ]
  },
  {
   "cell_type": "markdown",
   "metadata": {},
   "source": [
    "## Random Forest"
   ]
  },
  {
   "cell_type": "code",
   "execution_count": 27,
   "metadata": {},
   "outputs": [],
   "source": [
    "from sklearn.ensemble import RandomForestRegressor"
   ]
  },
  {
   "cell_type": "code",
   "execution_count": 28,
   "metadata": {},
   "outputs": [],
   "source": [
    "base_RF = RandomForestRegressor()"
   ]
  },
  {
   "cell_type": "code",
   "execution_count": 29,
   "metadata": {},
   "outputs": [
    {
     "data": {
      "text/plain": [
       "RandomForestRegressor()"
      ]
     },
     "execution_count": 29,
     "metadata": {},
     "output_type": "execute_result"
    }
   ],
   "source": [
    "base_RF.fit(X_train, y_train)"
   ]
  },
  {
   "cell_type": "code",
   "execution_count": 30,
   "metadata": {},
   "outputs": [],
   "source": [
    "y_RF = base_RF.predict(X_test)"
   ]
  },
  {
   "cell_type": "code",
   "execution_count": 40,
   "metadata": {},
   "outputs": [],
   "source": [
    "RF_train = base_RF.score(X_train, y_train)"
   ]
  },
  {
   "cell_type": "code",
   "execution_count": 31,
   "metadata": {},
   "outputs": [
    {
     "data": {
      "text/plain": [
       "0.8852643878964712"
      ]
     },
     "execution_count": 31,
     "metadata": {},
     "output_type": "execute_result"
    }
   ],
   "source": [
    "r2_base_RF = r2_score(y_test, y_RF)\n",
    "r2_base_RF"
   ]
  },
  {
   "cell_type": "code",
   "execution_count": 32,
   "metadata": {},
   "outputs": [],
   "source": [
    "r2_base_RF = base_RF.score(X_test, y_test)\n",
    "MAE_RF = mean_absolute_error(y_test, y_RF)\n",
    "MSE_RF = mean_squared_error(y_test, y_RF)\n",
    "RMSE_RF = np.sqrt(MSE_RF)"
   ]
  },
  {
   "cell_type": "code",
   "execution_count": 33,
   "metadata": {},
   "outputs": [
    {
     "name": "stdout",
     "output_type": "stream",
     "text": [
      "Hasil Evaluation Matrix RandomForest : \n",
      "\n",
      "MAE: 67074.3045637601\n",
      "MSE:14704007124.511185\n",
      "RMSE : 121260.08050678173\n",
      "R2 : 0.8852643878964712\n"
     ]
    }
   ],
   "source": [
    "print('Hasil Evaluation Matrix RandomForest : ')\n",
    "print(\"\")\n",
    "print(f'MAE: {MAE_RF}')\n",
    "print(f'MSE:{MSE_RF}')\n",
    "print(f\"RMSE : {RMSE_RF}\")\n",
    "print(f\"R2 : {r2_base_RF}\")"
   ]
  },
  {
   "cell_type": "markdown",
   "metadata": {},
   "source": [
    "## Summary"
   ]
  },
  {
   "cell_type": "code",
   "execution_count": 42,
   "metadata": {},
   "outputs": [],
   "source": [
    "data = {'LinReg': [r2_linreg,MAE_linreg,MSE_linreg,RMSE_linreg],\n",
    "        'Linreg Train':[linreg_train, np.nan, np.nan, np.nan],\n",
    "       'XGB':[r2_XGB, MAE_XGB, MSE_XGB, RMSE_XGB],\n",
    "        'XGB Train':[XGB_train, np.nan, np.nan, np.nan],\n",
    "       'RF':[r2_base_RF, MAE_RF, MSE_RF, RMSE_RF],\n",
    "        'RF Train':[RF_train, np.nan, np.nan, np.nan],\n",
    "        }"
   ]
  },
  {
   "cell_type": "code",
   "execution_count": 44,
   "metadata": {},
   "outputs": [
    {
     "data": {
      "text/html": [
       "<div>\n",
       "<style scoped>\n",
       "    .dataframe tbody tr th:only-of-type {\n",
       "        vertical-align: middle;\n",
       "    }\n",
       "\n",
       "    .dataframe tbody tr th {\n",
       "        vertical-align: top;\n",
       "    }\n",
       "\n",
       "    .dataframe thead th {\n",
       "        text-align: right;\n",
       "    }\n",
       "</style>\n",
       "<table border=\"1\" class=\"dataframe\">\n",
       "  <thead>\n",
       "    <tr style=\"text-align: right;\">\n",
       "      <th></th>\n",
       "      <th>LinReg</th>\n",
       "      <th>Linreg Train</th>\n",
       "      <th>XGB</th>\n",
       "      <th>XGB Train</th>\n",
       "      <th>RF</th>\n",
       "      <th>RF Train</th>\n",
       "    </tr>\n",
       "  </thead>\n",
       "  <tbody>\n",
       "    <tr>\n",
       "      <th>R2</th>\n",
       "      <td>7.021075e-01</td>\n",
       "      <td>0.69968</td>\n",
       "      <td>8.922086e-01</td>\n",
       "      <td>0.975125</td>\n",
       "      <td>8.852644e-01</td>\n",
       "      <td>0.981922</td>\n",
       "    </tr>\n",
       "    <tr>\n",
       "      <th>MAE</th>\n",
       "      <td>1.251982e+05</td>\n",
       "      <td>NaN</td>\n",
       "      <td>6.608502e+04</td>\n",
       "      <td>NaN</td>\n",
       "      <td>6.707430e+04</td>\n",
       "      <td>NaN</td>\n",
       "    </tr>\n",
       "    <tr>\n",
       "      <th>MSE</th>\n",
       "      <td>3.817658e+10</td>\n",
       "      <td>NaN</td>\n",
       "      <td>1.381407e+10</td>\n",
       "      <td>NaN</td>\n",
       "      <td>1.470401e+10</td>\n",
       "      <td>NaN</td>\n",
       "    </tr>\n",
       "    <tr>\n",
       "      <th>RMSE</th>\n",
       "      <td>1.953883e+05</td>\n",
       "      <td>NaN</td>\n",
       "      <td>1.175333e+05</td>\n",
       "      <td>NaN</td>\n",
       "      <td>1.212601e+05</td>\n",
       "      <td>NaN</td>\n",
       "    </tr>\n",
       "  </tbody>\n",
       "</table>\n",
       "</div>"
      ],
      "text/plain": [
       "            LinReg  Linreg Train           XGB  XGB Train            RF  \\\n",
       "R2    7.021075e-01       0.69968  8.922086e-01   0.975125  8.852644e-01   \n",
       "MAE   1.251982e+05           NaN  6.608502e+04        NaN  6.707430e+04   \n",
       "MSE   3.817658e+10           NaN  1.381407e+10        NaN  1.470401e+10   \n",
       "RMSE  1.953883e+05           NaN  1.175333e+05        NaN  1.212601e+05   \n",
       "\n",
       "      RF Train  \n",
       "R2    0.981922  \n",
       "MAE        NaN  \n",
       "MSE        NaN  \n",
       "RMSE       NaN  "
      ]
     },
     "execution_count": 44,
     "metadata": {},
     "output_type": "execute_result"
    }
   ],
   "source": [
    "df_score =  pd.DataFrame(data = data, index = ['R2', 'MAE', 'MSE', 'RMSE'])\n",
    "df_score"
   ]
  },
  {
   "cell_type": "markdown",
   "metadata": {},
   "source": [
    "## Hyperparameter Tuning"
   ]
  },
  {
   "cell_type": "markdown",
   "metadata": {},
   "source": [
    "## Random Forest"
   ]
  },
  {
   "cell_type": "code",
   "execution_count": 47,
   "metadata": {},
   "outputs": [],
   "source": [
    "param_RF = {\"n_estimators\" : [100, 500, 1000],\n",
    "          \"max_depth\" : [None, 5, 9, 20, ],\n",
    "          \"min_samples_split\" : [2, 9, 15],\n",
    "          \"min_samples_leaf\" : [ 1, 4, 10],\n",
    "          \"max_features\" : ['auto', .8, .5]}"
   ]
  },
  {
   "cell_type": "code",
   "execution_count": 48,
   "metadata": {},
   "outputs": [],
   "source": [
    "from sklearn.model_selection import RandomizedSearchCV, GridSearchCV"
   ]
  },
  {
   "cell_type": "code",
   "execution_count": 49,
   "metadata": {},
   "outputs": [],
   "source": [
    "model_RF = RandomizedSearchCV(estimator=base_RF, param_distributions=param_RF, cv = 5, n_jobs=-1, verbose=1)"
   ]
  },
  {
   "cell_type": "code",
   "execution_count": 50,
   "metadata": {},
   "outputs": [
    {
     "name": "stdout",
     "output_type": "stream",
     "text": [
      "Fitting 5 folds for each of 10 candidates, totalling 50 fits\n"
     ]
    },
    {
     "name": "stderr",
     "output_type": "stream",
     "text": [
      "[Parallel(n_jobs=-1)]: Using backend LokyBackend with 8 concurrent workers.\n",
      "[Parallel(n_jobs=-1)]: Done  34 tasks      | elapsed:  1.7min\n",
      "[Parallel(n_jobs=-1)]: Done  50 out of  50 | elapsed:  2.1min finished\n"
     ]
    },
    {
     "data": {
      "text/plain": [
       "RandomizedSearchCV(cv=5, estimator=RandomForestRegressor(), n_jobs=-1,\n",
       "                   param_distributions={'max_depth': [None, 5, 9, 20],\n",
       "                                        'max_features': ['auto', 0.8, 0.5],\n",
       "                                        'min_samples_leaf': [1, 4, 10],\n",
       "                                        'min_samples_split': [2, 9, 15],\n",
       "                                        'n_estimators': [100, 500, 1000]},\n",
       "                   verbose=1)"
      ]
     },
     "execution_count": 50,
     "metadata": {},
     "output_type": "execute_result"
    }
   ],
   "source": [
    "model_RF.fit(X_train, y_train)"
   ]
  },
  {
   "cell_type": "code",
   "execution_count": 51,
   "metadata": {},
   "outputs": [
    {
     "data": {
      "text/plain": [
       "{'n_estimators': 100,\n",
       " 'min_samples_split': 15,\n",
       " 'min_samples_leaf': 1,\n",
       " 'max_features': 0.8,\n",
       " 'max_depth': 20}"
      ]
     },
     "execution_count": 51,
     "metadata": {},
     "output_type": "execute_result"
    }
   ],
   "source": [
    "model_RF.best_params_"
   ]
  },
  {
   "cell_type": "code",
   "execution_count": 52,
   "metadata": {},
   "outputs": [],
   "source": [
    "RF_tuned = model_RF.best_estimator_"
   ]
  },
  {
   "cell_type": "code",
   "execution_count": 53,
   "metadata": {},
   "outputs": [],
   "source": [
    "y_tunedRF = RF_tuned.predict(X_test)"
   ]
  },
  {
   "cell_type": "code",
   "execution_count": 54,
   "metadata": {},
   "outputs": [],
   "source": [
    "RF_train_tuned = RF_tuned.score(X_train, y_train)"
   ]
  },
  {
   "cell_type": "code",
   "execution_count": 55,
   "metadata": {},
   "outputs": [
    {
     "data": {
      "text/plain": [
       "0.878693642779905"
      ]
     },
     "execution_count": 55,
     "metadata": {},
     "output_type": "execute_result"
    }
   ],
   "source": [
    "r2_tuned_RF = r2_score(y_test, y_tunedRF)\n",
    "r2_tuned_RF"
   ]
  },
  {
   "cell_type": "code",
   "execution_count": 56,
   "metadata": {},
   "outputs": [],
   "source": [
    "r2_model_RF = RF_tuned.score(X_test, y_test)\n",
    "MAE_RF_tuned = mean_absolute_error(y_test, y_tunedRF)\n",
    "MSE_RF_tuned = mean_squared_error(y_test, y_tunedRF)\n",
    "RMSE_RF_tuned = np.sqrt(MSE_RF_tuned)"
   ]
  },
  {
   "cell_type": "code",
   "execution_count": 57,
   "metadata": {},
   "outputs": [
    {
     "name": "stdout",
     "output_type": "stream",
     "text": [
      "Hasil Evaluation Matrix RandomForest : \n",
      "\n",
      "MAE: 68255.52715598434\n",
      "MSE:15546084673.37332\n",
      "RMSE : 124683.93911556259\n",
      "R2 : 0.878693642779905\n"
     ]
    }
   ],
   "source": [
    "print('Hasil Evaluation Matrix RandomForest : ')\n",
    "print(\"\")\n",
    "print(f'MAE: {MAE_RF_tuned}')\n",
    "print(f'MSE:{MSE_RF_tuned}')\n",
    "print(f\"RMSE : {RMSE_RF_tuned}\")\n",
    "print(f\"R2 : {r2_model_RF}\")"
   ]
  },
  {
   "cell_type": "markdown",
   "metadata": {},
   "source": [
    "## XGBoost"
   ]
  },
  {
   "cell_type": "code",
   "execution_count": 59,
   "metadata": {},
   "outputs": [],
   "source": [
    "param_XGB = {'max_depth':[3,6,8],\n",
    "             'min_child_weight':[1,3,6],\n",
    "             'subsample':[1,0.5,0.3],\n",
    "             'gamma':[0,3,5]}"
   ]
  },
  {
   "cell_type": "code",
   "execution_count": 60,
   "metadata": {},
   "outputs": [],
   "source": [
    "model_XGB = RandomizedSearchCV(estimator=base_XGB, param_distributions=param_XGB, cv = 5, n_jobs=-1, verbose=1)"
   ]
  },
  {
   "cell_type": "code",
   "execution_count": 61,
   "metadata": {},
   "outputs": [
    {
     "name": "stdout",
     "output_type": "stream",
     "text": [
      "Fitting 5 folds for each of 10 candidates, totalling 50 fits\n"
     ]
    },
    {
     "name": "stderr",
     "output_type": "stream",
     "text": [
      "[Parallel(n_jobs=-1)]: Using backend LokyBackend with 8 concurrent workers.\n",
      "[Parallel(n_jobs=-1)]: Done  34 tasks      | elapsed:   11.0s\n",
      "[Parallel(n_jobs=-1)]: Done  50 out of  50 | elapsed:   14.9s finished\n"
     ]
    },
    {
     "data": {
      "text/plain": [
       "RandomizedSearchCV(cv=5,\n",
       "                   estimator=XGBRegressor(base_score=0.5, booster='gbtree',\n",
       "                                          colsample_bylevel=1,\n",
       "                                          colsample_bynode=1,\n",
       "                                          colsample_bytree=1, gamma=0,\n",
       "                                          gpu_id=-1, importance_type='gain',\n",
       "                                          interaction_constraints='',\n",
       "                                          learning_rate=0.300000012,\n",
       "                                          max_delta_step=0, max_depth=6,\n",
       "                                          min_child_weight=1, missing=nan,\n",
       "                                          monotone_constraints='()',\n",
       "                                          n_estimators=100, n_jobs=0,\n",
       "                                          num_parallel_tree=1, random_state=0,\n",
       "                                          reg_alpha=0, reg_lambda=1,\n",
       "                                          scale_pos_weight=1, subsample=1,\n",
       "                                          tree_method='exact',\n",
       "                                          validate_parameters=1,\n",
       "                                          verbosity=None),\n",
       "                   n_jobs=-1,\n",
       "                   param_distributions={'gamma': [0, 3, 5],\n",
       "                                        'max_depth': [3, 6, 8],\n",
       "                                        'min_child_weight': [1, 3, 6],\n",
       "                                        'subsample': [1, 0.5, 0.3]},\n",
       "                   verbose=1)"
      ]
     },
     "execution_count": 61,
     "metadata": {},
     "output_type": "execute_result"
    }
   ],
   "source": [
    "model_XGB.fit(X_train, y_train)"
   ]
  },
  {
   "cell_type": "code",
   "execution_count": 62,
   "metadata": {},
   "outputs": [
    {
     "data": {
      "text/plain": [
       "{'subsample': 1, 'min_child_weight': 6, 'max_depth': 3, 'gamma': 5}"
      ]
     },
     "execution_count": 62,
     "metadata": {},
     "output_type": "execute_result"
    }
   ],
   "source": [
    "model_XGB.best_params_"
   ]
  },
  {
   "cell_type": "code",
   "execution_count": 63,
   "metadata": {},
   "outputs": [],
   "source": [
    "XGB_tuned = model_XGB.best_estimator_"
   ]
  },
  {
   "cell_type": "code",
   "execution_count": 64,
   "metadata": {},
   "outputs": [],
   "source": [
    "y_tunedXGB = XGB_tuned.predict(X_test)"
   ]
  },
  {
   "cell_type": "code",
   "execution_count": 65,
   "metadata": {},
   "outputs": [],
   "source": [
    "XGB_train_tuned = XGB_tuned.score(X_train, y_train)"
   ]
  },
  {
   "cell_type": "code",
   "execution_count": 66,
   "metadata": {},
   "outputs": [
    {
     "data": {
      "text/plain": [
       "0.8822970489099081"
      ]
     },
     "execution_count": 66,
     "metadata": {},
     "output_type": "execute_result"
    }
   ],
   "source": [
    "r2_tuned_RF = r2_score(y_test, y_tunedXGB)\n",
    "r2_tuned_RF"
   ]
  },
  {
   "cell_type": "code",
   "execution_count": 67,
   "metadata": {},
   "outputs": [],
   "source": [
    "r2_model_XGB = XGB_tuned.score(X_test, y_test)\n",
    "MAE_XGB_tuned = mean_absolute_error(y_test, y_tunedXGB)\n",
    "MSE_XGB_tuned = mean_squared_error(y_test, y_tunedXGB)\n",
    "RMSE_XGB_tuned = np.sqrt(MSE_XGB_tuned)"
   ]
  },
  {
   "cell_type": "code",
   "execution_count": 68,
   "metadata": {},
   "outputs": [
    {
     "name": "stdout",
     "output_type": "stream",
     "text": [
      "Hasil Evaluation Matrix RandomForest : \n",
      "\n",
      "MAE: 72953.55154117511\n",
      "MSE:15084288127.064205\n",
      "RMSE : 122818.10993116692\n",
      "R2 : 0.8822970489099081\n"
     ]
    }
   ],
   "source": [
    "print('Hasil Evaluation Matrix RandomForest : ')\n",
    "print(\"\")\n",
    "print(f'MAE: {MAE_XGB_tuned}')\n",
    "print(f'MSE:{MSE_XGB_tuned}')\n",
    "print(f\"RMSE : {RMSE_XGB_tuned}\")\n",
    "print(f\"R2 : {r2_model_XGB}\")"
   ]
  },
  {
   "cell_type": "code",
   "execution_count": 69,
   "metadata": {},
   "outputs": [],
   "source": [
    "data2 = {'LinReg': [r2_linreg,MAE_linreg,MSE_linreg,RMSE_linreg],\n",
    "        'Linreg Train':[linreg_train, np.nan, np.nan, np.nan],\n",
    "       'XGB':[r2_model_XGB, MAE_XGB_tuned, MSE_XGB_tuned, RMSE_XGB_tuned],\n",
    "        'XGB Train':[XGB_train_tuned, np.nan, np.nan, np.nan],\n",
    "       'RF':[r2_model_RF, MAE_RF_tuned, MSE_RF_tuned, RMSE_RF_tuned],\n",
    "        'RF Train':[RF_train_tuned, np.nan, np.nan, np.nan],\n",
    "        }"
   ]
  },
  {
   "cell_type": "markdown",
   "metadata": {},
   "source": [
    "## Evaluation Matrix Before Tuning"
   ]
  },
  {
   "cell_type": "code",
   "execution_count": 71,
   "metadata": {},
   "outputs": [
    {
     "data": {
      "text/html": [
       "<div>\n",
       "<style scoped>\n",
       "    .dataframe tbody tr th:only-of-type {\n",
       "        vertical-align: middle;\n",
       "    }\n",
       "\n",
       "    .dataframe tbody tr th {\n",
       "        vertical-align: top;\n",
       "    }\n",
       "\n",
       "    .dataframe thead th {\n",
       "        text-align: right;\n",
       "    }\n",
       "</style>\n",
       "<table border=\"1\" class=\"dataframe\">\n",
       "  <thead>\n",
       "    <tr style=\"text-align: right;\">\n",
       "      <th></th>\n",
       "      <th>LinReg</th>\n",
       "      <th>Linreg Train</th>\n",
       "      <th>XGB</th>\n",
       "      <th>XGB Train</th>\n",
       "      <th>RF</th>\n",
       "      <th>RF Train</th>\n",
       "    </tr>\n",
       "  </thead>\n",
       "  <tbody>\n",
       "    <tr>\n",
       "      <th>R2</th>\n",
       "      <td>7.021075e-01</td>\n",
       "      <td>0.69968</td>\n",
       "      <td>8.922086e-01</td>\n",
       "      <td>0.975125</td>\n",
       "      <td>8.852644e-01</td>\n",
       "      <td>0.981922</td>\n",
       "    </tr>\n",
       "    <tr>\n",
       "      <th>MAE</th>\n",
       "      <td>1.251982e+05</td>\n",
       "      <td>NaN</td>\n",
       "      <td>6.608502e+04</td>\n",
       "      <td>NaN</td>\n",
       "      <td>6.707430e+04</td>\n",
       "      <td>NaN</td>\n",
       "    </tr>\n",
       "    <tr>\n",
       "      <th>MSE</th>\n",
       "      <td>3.817658e+10</td>\n",
       "      <td>NaN</td>\n",
       "      <td>1.381407e+10</td>\n",
       "      <td>NaN</td>\n",
       "      <td>1.470401e+10</td>\n",
       "      <td>NaN</td>\n",
       "    </tr>\n",
       "    <tr>\n",
       "      <th>RMSE</th>\n",
       "      <td>1.953883e+05</td>\n",
       "      <td>NaN</td>\n",
       "      <td>1.175333e+05</td>\n",
       "      <td>NaN</td>\n",
       "      <td>1.212601e+05</td>\n",
       "      <td>NaN</td>\n",
       "    </tr>\n",
       "  </tbody>\n",
       "</table>\n",
       "</div>"
      ],
      "text/plain": [
       "            LinReg  Linreg Train           XGB  XGB Train            RF  \\\n",
       "R2    7.021075e-01       0.69968  8.922086e-01   0.975125  8.852644e-01   \n",
       "MAE   1.251982e+05           NaN  6.608502e+04        NaN  6.707430e+04   \n",
       "MSE   3.817658e+10           NaN  1.381407e+10        NaN  1.470401e+10   \n",
       "RMSE  1.953883e+05           NaN  1.175333e+05        NaN  1.212601e+05   \n",
       "\n",
       "      RF Train  \n",
       "R2    0.981922  \n",
       "MAE        NaN  \n",
       "MSE        NaN  \n",
       "RMSE       NaN  "
      ]
     },
     "execution_count": 71,
     "metadata": {},
     "output_type": "execute_result"
    }
   ],
   "source": [
    "df_score"
   ]
  },
  {
   "cell_type": "markdown",
   "metadata": {},
   "source": [
    "## Evaluation Matrix After Tuning"
   ]
  },
  {
   "cell_type": "code",
   "execution_count": 70,
   "metadata": {},
   "outputs": [
    {
     "data": {
      "text/html": [
       "<div>\n",
       "<style scoped>\n",
       "    .dataframe tbody tr th:only-of-type {\n",
       "        vertical-align: middle;\n",
       "    }\n",
       "\n",
       "    .dataframe tbody tr th {\n",
       "        vertical-align: top;\n",
       "    }\n",
       "\n",
       "    .dataframe thead th {\n",
       "        text-align: right;\n",
       "    }\n",
       "</style>\n",
       "<table border=\"1\" class=\"dataframe\">\n",
       "  <thead>\n",
       "    <tr style=\"text-align: right;\">\n",
       "      <th></th>\n",
       "      <th>LinReg</th>\n",
       "      <th>Linreg Train</th>\n",
       "      <th>XGB</th>\n",
       "      <th>XGB Train</th>\n",
       "      <th>RF</th>\n",
       "      <th>RF Train</th>\n",
       "    </tr>\n",
       "  </thead>\n",
       "  <tbody>\n",
       "    <tr>\n",
       "      <th>R2</th>\n",
       "      <td>7.021075e-01</td>\n",
       "      <td>0.69968</td>\n",
       "      <td>8.822970e-01</td>\n",
       "      <td>0.926266</td>\n",
       "      <td>8.786936e-01</td>\n",
       "      <td>0.944925</td>\n",
       "    </tr>\n",
       "    <tr>\n",
       "      <th>MAE</th>\n",
       "      <td>1.251982e+05</td>\n",
       "      <td>NaN</td>\n",
       "      <td>7.295355e+04</td>\n",
       "      <td>NaN</td>\n",
       "      <td>6.825553e+04</td>\n",
       "      <td>NaN</td>\n",
       "    </tr>\n",
       "    <tr>\n",
       "      <th>MSE</th>\n",
       "      <td>3.817658e+10</td>\n",
       "      <td>NaN</td>\n",
       "      <td>1.508429e+10</td>\n",
       "      <td>NaN</td>\n",
       "      <td>1.554608e+10</td>\n",
       "      <td>NaN</td>\n",
       "    </tr>\n",
       "    <tr>\n",
       "      <th>RMSE</th>\n",
       "      <td>1.953883e+05</td>\n",
       "      <td>NaN</td>\n",
       "      <td>1.228181e+05</td>\n",
       "      <td>NaN</td>\n",
       "      <td>1.246839e+05</td>\n",
       "      <td>NaN</td>\n",
       "    </tr>\n",
       "  </tbody>\n",
       "</table>\n",
       "</div>"
      ],
      "text/plain": [
       "            LinReg  Linreg Train           XGB  XGB Train            RF  \\\n",
       "R2    7.021075e-01       0.69968  8.822970e-01   0.926266  8.786936e-01   \n",
       "MAE   1.251982e+05           NaN  7.295355e+04        NaN  6.825553e+04   \n",
       "MSE   3.817658e+10           NaN  1.508429e+10        NaN  1.554608e+10   \n",
       "RMSE  1.953883e+05           NaN  1.228181e+05        NaN  1.246839e+05   \n",
       "\n",
       "      RF Train  \n",
       "R2    0.944925  \n",
       "MAE        NaN  \n",
       "MSE        NaN  \n",
       "RMSE       NaN  "
      ]
     },
     "execution_count": 70,
     "metadata": {},
     "output_type": "execute_result"
    }
   ],
   "source": [
    "df_score_tuned = pd.DataFrame(data = data2, index = ['R2', 'MAE', 'MSE', 'RMSE'])\n",
    "df_score_tuned"
   ]
  },
  {
   "cell_type": "markdown",
   "metadata": {},
   "source": [
    "## Conclusion\n",
    "- XGBoost with HyperParameter Tuning has the Higest evaluation matrix to predict house prices in King County with the accuracy of 88 % "
   ]
  },
  {
   "cell_type": "code",
   "execution_count": null,
   "metadata": {},
   "outputs": [],
   "source": []
  }
 ],
 "metadata": {
  "kernelspec": {
   "display_name": "Python 3",
   "language": "python",
   "name": "python3"
  },
  "language_info": {
   "codemirror_mode": {
    "name": "ipython",
    "version": 3
   },
   "file_extension": ".py",
   "mimetype": "text/x-python",
   "name": "python",
   "nbconvert_exporter": "python",
   "pygments_lexer": "ipython3",
   "version": "3.8.3"
  }
 },
 "nbformat": 4,
 "nbformat_minor": 4
}
